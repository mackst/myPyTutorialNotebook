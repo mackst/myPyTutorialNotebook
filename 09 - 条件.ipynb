{
 "metadata": {
  "name": "09 - \u6761\u4ef6"
 },
 "nbformat": 3,
 "nbformat_minor": 0,
 "worksheets": [
  {
   "cells": [
    {
     "cell_type": "heading",
     "level": 1,
     "metadata": {},
     "source": [
      "if \u8bed\u53e5"
     ]
    },
    {
     "cell_type": "raw",
     "metadata": {},
     "source": [
      "if exp:\n",
      "    # \u6761\u4ef6\u771f\n",
      "    # \u4f60\u8981\u6267\u884c\u7684\u4ee3\u7801"
     ]
    },
    {
     "cell_type": "code",
     "collapsed": false,
     "input": [
      "if 1 == 1:\n",
      "    print(\"1==1\")\n",
      "    print(1==1) # 1 and 0, or"
     ],
     "language": "python",
     "metadata": {},
     "outputs": []
    },
    {
     "cell_type": "code",
     "collapsed": false,
     "input": [
      "if (1==1):\n",
      "    print(\"1 == 1\") # print \"1 == 1\""
     ],
     "language": "python",
     "metadata": {},
     "outputs": []
    },
    {
     "cell_type": "raw",
     "metadata": {},
     "source": [
      "if exp:\n",
      "    # \u6761\u4ef6\u771f\n",
      "    # \u4f60\u8981\u6267\u884c\u7684\u4ee3\u7801\n",
      "else:\n",
      "    # \u6761\u4ef6\u5047\n",
      "    # \u4f60\u8981\u6267\u884c\u7684\u4ee3\u7801"
     ]
    },
    {
     "cell_type": "code",
     "collapsed": false,
     "input": [
      "if 1 == 0:\n",
      "    print(\"1 == 0\")\n",
      "else:\n",
      "    print('1 != 0')"
     ],
     "language": "python",
     "metadata": {},
     "outputs": []
    },
    {
     "cell_type": "code",
     "collapsed": false,
     "input": [
      "exp = 2\n",
      "\n",
      "if exp == 0:\n",
      "    print(\"exp == 0\")\n",
      "\n",
      "if exp == 1:\n",
      "    print(\"exp == 1\")\n",
      "    \n",
      "if exp == 2:\n",
      "    print(\"exp == 2\")"
     ],
     "language": "python",
     "metadata": {},
     "outputs": []
    },
    {
     "cell_type": "raw",
     "metadata": {},
     "source": [
      "if exp:\n",
      "    # \u6761\u4ef6\u771f\n",
      "    # \u4f60\u8981\u6267\u884c\u7684\u4ee3\u7801\n",
      "elif exp:\n",
      "    # \u6761\u4ef6\u771f\n",
      "    # \u4f60\u8981\u6267\u884c\u7684\u4ee3\u7801"
     ]
    },
    {
     "cell_type": "code",
     "collapsed": false,
     "input": [
      "exp = 1\n",
      "\n",
      "if exp == 0:\n",
      "    print(\"exp == 0\")\n",
      "\n",
      "elif exp == 1:\n",
      "    print(\"exp == 1\")\n",
      "    \n",
      "elif exp == 2:\n",
      "    print(\"exp == 2\")"
     ],
     "language": "python",
     "metadata": {},
     "outputs": []
    },
    {
     "cell_type": "raw",
     "metadata": {},
     "source": [
      "if exp:\n",
      "    # \u6761\u4ef6\u771f\n",
      "    # \u4f60\u8981\u6267\u884c\u7684\u4ee3\u7801\n",
      "elif exp:\n",
      "    # \u6761\u4ef6\u771f\n",
      "    # \u4f60\u8981\u6267\u884c\u7684\u4ee3\u7801\n",
      "else:\n",
      "    # \u6761\u4ef6\u5047\n",
      "    # \u4f60\u8981\u6267\u884c\u7684\u4ee3\u7801"
     ]
    },
    {
     "cell_type": "code",
     "collapsed": false,
     "input": [
      "exp = -1\n",
      "\n",
      "if exp == 0:\n",
      "    print(\"exp == 0\")\n",
      "\n",
      "elif exp == 1:\n",
      "    print(\"exp == 1\")\n",
      "    \n",
      "elif exp == 2:\n",
      "    print(\"exp == 2\")\n",
      "else:\n",
      "    print('exp == %i' % exp)"
     ],
     "language": "python",
     "metadata": {},
     "outputs": []
    },
    {
     "cell_type": "code",
     "collapsed": false,
     "input": [
      "if exp == 0:\n",
      "    print(\"exp == 0\")\n",
      "    if exp == 1:\n",
      "        print(\"exp == 1\")\n",
      "    else:\n",
      "        print('exp == %i' % exp)\n",
      "elif exp ==1 :\n",
      "    print(\"exp == 1\")"
     ],
     "language": "python",
     "metadata": {},
     "outputs": []
    },
    {
     "cell_type": "heading",
     "level": 4,
     "metadata": {},
     "source": [
      "\u6761\u4ef6\u8868\u8fbe\u5f0f"
     ]
    },
    {
     "cell_type": "code",
     "collapsed": false,
     "input": [
      "exp = 0\n",
      "if exp > 4:\n",
      "    exp = 3\n",
      "else:\n",
      "    exp = 1\n",
      "print(exp)"
     ],
     "language": "python",
     "metadata": {},
     "outputs": []
    },
    {
     "cell_type": "code",
     "collapsed": false,
     "input": [
      "exp = 6\n",
      "exp = 3 if exp > 4 else 1\n",
      "print(exp)"
     ],
     "language": "python",
     "metadata": {},
     "outputs": []
    },
    {
     "cell_type": "code",
     "collapsed": false,
     "input": [
      "# --------------------------------------------------------------------------------  \n",
      "# Copyright (c) 2013 - 2014 Mack Stone. All rights reserved.  \n",
      "#   \n",
      "# Permission is hereby granted, free of charge, to any person obtaining a copy  \n",
      "# of this software and associated documentation files (the \"Software\"), to deal  \n",
      "# in the Software without restriction, including without limitation the rights  \n",
      "# to use, copy, modify, merge, publish, distribute, sublicense, and/or sell  \n",
      "# copies of the Software, and to permit persons to whom the Software is  \n",
      "# furnished to do so, subject to the following conditions:  \n",
      "#   \n",
      "# The above copyright notice and this permission notice shall be included in  \n",
      "# all copies or substantial portions of the Software.  \n",
      "#   \n",
      "# THE SOFTWARE IS PROVIDED \"AS IS\", WITHOUT WARRANTY OF ANY KIND, EXPRESS OR  \n",
      "# IMPLIED, INCLUDING BUT NOT LIMITED TO THE WARRANTIES OF MERCHANTABILITY,  \n",
      "# FITNESS FOR A PARTICULAR PURPOSE AND NONINFRINGEMENT. IN NO EVENT SHALL THE  \n",
      "# AUTHORS OR COPYRIGHT HOLDERS BE LIABLE FOR ANY CLAIM, DAMAGES OR OTHER  \n",
      "# LIABILITY, WHETHER IN AN ACTION OF CONTRACT, TORT OR OTHERWISE, ARISING FROM,  \n",
      "# OUT OF OR IN CONNECTION WITH THE SOFTWARE OR THE USE OR OTHER DEALINGS IN  \n",
      "# THE SOFTWARE.  \n",
      "# --------------------------------------------------------------------------------  "
     ],
     "language": "python",
     "metadata": {},
     "outputs": []
    },
    {
     "cell_type": "markdown",
     "metadata": {},
     "source": [
      "\u89c6\u9891\u4e0b\u8f7d\u5730\u5740\n",
      "\n",
      "http://schi.iteye.com/blog/1938511\n",
      "\n",
      "Notebook\u4e0b\u8f7d\u5730\u5740\n",
      "\n",
      "https://github.com/mackst/myPyTutorialNotebook"
     ]
    }
   ],
   "metadata": {}
  }
 ]
}