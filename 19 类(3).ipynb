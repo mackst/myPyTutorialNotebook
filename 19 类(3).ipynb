{
 "metadata": {
  "name": "19 \u7c7b(3)"
 },
 "nbformat": 3,
 "nbformat_minor": 0,
 "worksheets": [
  {
   "cells": [
    {
     "cell_type": "code",
     "collapsed": false,
     "input": [
      "class Parent(object):\n",
      "    def __init__(self, name, age):\n",
      "        self.name = name\n",
      "        self.age = age\n",
      "        \n",
      "    def mywork(self):\n",
      "        return \"my work is artist\"\n",
      "    \n",
      "class Child(Parent):\n",
      "    pass"
     ],
     "language": "python",
     "metadata": {},
     "outputs": []
    },
    {
     "cell_type": "code",
     "collapsed": false,
     "input": [
      "p = Parent('parent', 35)\n",
      "c = Child('child', 18)"
     ],
     "language": "python",
     "metadata": {},
     "outputs": []
    },
    {
     "cell_type": "code",
     "collapsed": false,
     "input": [
      "print(\"Parent: %s\" % p.name)\n",
      "print(\"age: %i \" % p.age)\n",
      "print(p.mywork())\n",
      "\n",
      "print(\"Parent: %s\" % c.name)\n",
      "print(\"age: %i \" % c.age)\n",
      "print(c.mywork())"
     ],
     "language": "python",
     "metadata": {},
     "outputs": []
    },
    {
     "cell_type": "code",
     "collapsed": false,
     "input": [
      "class Child(Parent):\n",
      "    def __init__(self, name, age, xxx):\n",
      "        \n",
      "        self.unknow = xxx\n",
      "        \n",
      "    def mywork(self):\n",
      "        return \"%s's work is programer\" % self.name"
     ],
     "language": "python",
     "metadata": {},
     "outputs": []
    },
    {
     "cell_type": "code",
     "collapsed": false,
     "input": [
      "c = Child('child', 18, 1234)"
     ],
     "language": "python",
     "metadata": {},
     "outputs": []
    },
    {
     "cell_type": "code",
     "collapsed": false,
     "input": [
      "c.name"
     ],
     "language": "python",
     "metadata": {},
     "outputs": []
    },
    {
     "cell_type": "code",
     "collapsed": false,
     "input": [
      "class Child(Parent):\n",
      "    def __init__(self, name, age, xxx):\n",
      "        Parent.__init__(self, name, age)\n",
      "        self.unknow = xxx\n",
      "        \n",
      "    def mywork(self):\n",
      "        return \"%s's work is programer\" % self.name"
     ],
     "language": "python",
     "metadata": {},
     "outputs": []
    },
    {
     "cell_type": "code",
     "collapsed": false,
     "input": [
      "c = Child('child', 18, 1234)\n",
      "print(c.name)"
     ],
     "language": "python",
     "metadata": {},
     "outputs": []
    },
    {
     "cell_type": "code",
     "collapsed": false,
     "input": [
      "super(Child, c)"
     ],
     "language": "python",
     "metadata": {},
     "outputs": []
    },
    {
     "cell_type": "code",
     "collapsed": false,
     "input": [
      "class Child(Parent):\n",
      "    def __init__(self, name, age, xxx):\n",
      "        super(Child, self).__init__(name, age)\n",
      "        self.unknow = xxx\n",
      "        \n",
      "    def mywork(self):\n",
      "        return \"%s's work is programer\" % self.name"
     ],
     "language": "python",
     "metadata": {},
     "outputs": []
    },
    {
     "cell_type": "code",
     "collapsed": false,
     "input": [
      "c = Child('child', 18, 1234)\n",
      "print(c.name)"
     ],
     "language": "python",
     "metadata": {},
     "outputs": []
    },
    {
     "cell_type": "code",
     "collapsed": false,
     "input": [
      "c.mywork()"
     ],
     "language": "python",
     "metadata": {},
     "outputs": []
    },
    {
     "cell_type": "code",
     "collapsed": false,
     "input": [
      "isinstance(c, Parent)"
     ],
     "language": "python",
     "metadata": {},
     "outputs": []
    },
    {
     "cell_type": "code",
     "collapsed": false,
     "input": [
      "isinstance(c, Child)"
     ],
     "language": "python",
     "metadata": {},
     "outputs": []
    },
    {
     "cell_type": "code",
     "collapsed": false,
     "input": [
      "isinstance(c, int)"
     ],
     "language": "python",
     "metadata": {},
     "outputs": []
    },
    {
     "cell_type": "code",
     "collapsed": false,
     "input": [
      "#isinstance(name, basestring)"
     ],
     "language": "python",
     "metadata": {},
     "outputs": []
    },
    {
     "cell_type": "code",
     "collapsed": false,
     "input": [
      "class Child(Parent):\n",
      "    def __init__(self, name, age, xxx):\n",
      "        super(Child, self).__init__(name, age)\n",
      "        self.unknow = xxx\n",
      "        \n",
      "    def mywork(self):\n",
      "        return \"%s's work is programer\" % self.name\n",
      "        \n",
      "    def doSomethingElse(self):\n",
      "        return \"say hi\""
     ],
     "language": "python",
     "metadata": {},
     "outputs": []
    },
    {
     "cell_type": "code",
     "collapsed": false,
     "input": [
      "c = Child('chiled01', 20, 546465)"
     ],
     "language": "python",
     "metadata": {},
     "outputs": []
    },
    {
     "cell_type": "code",
     "collapsed": false,
     "input": [
      "c.doSomethingElse()"
     ],
     "language": "python",
     "metadata": {},
     "outputs": []
    },
    {
     "cell_type": "code",
     "collapsed": false,
     "input": [
      "# --------------------------------------------------------------------------------  \n",
      "# Copyright (c) 2013 - 2014 Mack Stone. All rights reserved.  \n",
      "#   \n",
      "# Permission is hereby granted, free of charge, to any person obtaining a copy  \n",
      "# of this software and associated documentation files (the \"Software\"), to deal  \n",
      "# in the Software without restriction, including without limitation the rights  \n",
      "# to use, copy, modify, merge, publish, distribute, sublicense, and/or sell  \n",
      "# copies of the Software, and to permit persons to whom the Software is  \n",
      "# furnished to do so, subject to the following conditions:  \n",
      "#   \n",
      "# The above copyright notice and this permission notice shall be included in  \n",
      "# all copies or substantial portions of the Software.  \n",
      "#   \n",
      "# THE SOFTWARE IS PROVIDED \"AS IS\", WITHOUT WARRANTY OF ANY KIND, EXPRESS OR  \n",
      "# IMPLIED, INCLUDING BUT NOT LIMITED TO THE WARRANTIES OF MERCHANTABILITY,  \n",
      "# FITNESS FOR A PARTICULAR PURPOSE AND NONINFRINGEMENT. IN NO EVENT SHALL THE  \n",
      "# AUTHORS OR COPYRIGHT HOLDERS BE LIABLE FOR ANY CLAIM, DAMAGES OR OTHER  \n",
      "# LIABILITY, WHETHER IN AN ACTION OF CONTRACT, TORT OR OTHERWISE, ARISING FROM,  \n",
      "# OUT OF OR IN CONNECTION WITH THE SOFTWARE OR THE USE OR OTHER DEALINGS IN  \n",
      "# THE SOFTWARE.  \n",
      "# --------------------------------------------------------------------------------  "
     ],
     "language": "python",
     "metadata": {},
     "outputs": []
    },
    {
     "cell_type": "markdown",
     "metadata": {},
     "source": [
      "\u89c6\u9891\u4e0b\u8f7d\u5730\u5740\n",
      "\n",
      "http://schi.iteye.com/blog/1938511\n",
      "\n",
      "Notebook\u4e0b\u8f7d\u5730\u5740\n",
      "\n",
      "https://github.com/mackst/myPyTutorialNotebook"
     ]
    }
   ],
   "metadata": {}
  }
 ]
}