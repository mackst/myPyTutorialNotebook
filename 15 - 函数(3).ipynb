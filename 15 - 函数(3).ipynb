{
 "metadata": {
  "name": "15 - \u51fd\u6570(3)"
 },
 "nbformat": 3,
 "nbformat_minor": 0,
 "worksheets": [
  {
   "cells": [
    {
     "cell_type": "heading",
     "level": 2,
     "metadata": {},
     "source": [
      "\u57df"
     ]
    },
    {
     "cell_type": "code",
     "collapsed": false,
     "input": [
      "a = 0\n",
      "for i in range(10):\n",
      "    a += i * 2\n",
      "    b = i + ( i * 3)\n",
      "print(b)"
     ],
     "language": "python",
     "metadata": {},
     "outputs": []
    },
    {
     "cell_type": "code",
     "collapsed": false,
     "input": [
      "global_a = 1\n",
      "global_b = 2\n",
      "\n",
      "def add():\n",
      "    local_a = -1\n",
      "    local_b = -2\n",
      "    \n",
      "    global_a += 2\n",
      "    global_b += 3\n",
      "    \n",
      "    local_a -= 2\n",
      "    local_b -= 3\n",
      "    \n",
      "    print('globl_a == ', global_a)\n",
      "    print('globl_b == ', global_b)\n",
      "    print('local_a == ', local_a)\n",
      "    print('local_b == ', local_b)\n",
      "    \n",
      "add()"
     ],
     "language": "python",
     "metadata": {},
     "outputs": []
    },
    {
     "cell_type": "code",
     "collapsed": false,
     "input": [
      "global_a = 1\n",
      "global_b = 2\n",
      "\n",
      "print('globl_a id == ', id(global_a))\n",
      "print('globl_b id == ', id(global_b))\n",
      "    \n",
      "\n",
      "def add():\n",
      "    local_a = -1\n",
      "    local_b = -2\n",
      "    \n",
      "    global_a = 3\n",
      "    global_b = 4\n",
      "    \n",
      "    print('local_a id == ', id(local_a))\n",
      "    print('local_b id == ', id(local_b))\n",
      "    print('globl_a id == ', id(global_a))\n",
      "    print('globl_b id == ', id(global_b))\n",
      "    \n",
      "    global_a += 2\n",
      "    global_b += 3\n",
      "    \n",
      "    local_a -= 2\n",
      "    local_b -= 3\n",
      "    \n",
      "    print('globl_a == ', global_a)\n",
      "    print('globl_b == ', global_b)\n",
      "    print('local_a == ', local_a)\n",
      "    print('local_b == ', local_b)\n",
      "    \n",
      "add()"
     ],
     "language": "python",
     "metadata": {},
     "outputs": []
    },
    {
     "cell_type": "code",
     "collapsed": false,
     "input": [
      "global_a = 1\n",
      "global_b = 2\n",
      "\n",
      "print('globl_a id == ', id(global_a))\n",
      "print('globl_b id == ', id(global_b))\n",
      "    \n",
      "\n",
      "def add():\n",
      "    local_a = -1\n",
      "    local_b = -2\n",
      "    \n",
      "    global global_a\n",
      "    global global_b\n",
      "    \n",
      "    print('local_a id == ', id(local_a))\n",
      "    print('local_b id == ', id(local_b))\n",
      "    print('globl_a id == ', id(global_a))\n",
      "    print('globl_b id == ', id(global_b))\n",
      "    \n",
      "    global_a += 2\n",
      "    global_b += 3\n",
      "    \n",
      "    local_a -= 2\n",
      "    local_b -= 3\n",
      "    \n",
      "    print('globl_a == ', global_a)\n",
      "    print('globl_b == ', global_b)\n",
      "    print('local_a == ', local_a)\n",
      "    print('local_b == ', local_b)\n",
      "    \n",
      "add()"
     ],
     "language": "python",
     "metadata": {},
     "outputs": []
    },
    {
     "cell_type": "code",
     "collapsed": false,
     "input": [
      "def add():\n",
      "    a = 1\n",
      "    b = 2\n",
      "    \n",
      "    def boo(a, b): return a * (b + 1)\n",
      "    \n",
      "    return boo(a, b)\n",
      "\n",
      "add()"
     ],
     "language": "python",
     "metadata": {},
     "outputs": []
    },
    {
     "cell_type": "code",
     "collapsed": false,
     "input": [
      "boo(3, 4)"
     ],
     "language": "python",
     "metadata": {},
     "outputs": []
    },
    {
     "cell_type": "code",
     "collapsed": false,
     "input": [
      "add.boo(3, 4)"
     ],
     "language": "python",
     "metadata": {},
     "outputs": []
    },
    {
     "cell_type": "heading",
     "level": 3,
     "metadata": {},
     "source": [
      "lambda"
     ]
    },
    {
     "cell_type": "code",
     "collapsed": false,
     "input": [
      "boo = lambda a, b: a * (b + 1)\n",
      "boo(3, 4)"
     ],
     "language": "python",
     "metadata": {},
     "outputs": []
    },
    {
     "cell_type": "code",
     "collapsed": false,
     "input": [
      "bo = lambda a: True\n",
      "bo()"
     ],
     "language": "python",
     "metadata": {},
     "outputs": []
    },
    {
     "cell_type": "code",
     "collapsed": false,
     "input": [
      "#cmds.button(c=lambad a: boo(5, 7))"
     ],
     "language": "python",
     "metadata": {},
     "outputs": []
    },
    {
     "cell_type": "heading",
     "level": 3,
     "metadata": {},
     "source": [
      "\u9012\u5f52"
     ]
    },
    {
     "cell_type": "code",
     "collapsed": false,
     "input": [
      "# --------------------------------------------------------------------------------  \n",
      "# Copyright (c) 2013 - 2014 Mack Stone. All rights reserved.  \n",
      "#   \n",
      "# Permission is hereby granted, free of charge, to any person obtaining a copy  \n",
      "# of this software and associated documentation files (the \"Software\"), to deal  \n",
      "# in the Software without restriction, including without limitation the rights  \n",
      "# to use, copy, modify, merge, publish, distribute, sublicense, and/or sell  \n",
      "# copies of the Software, and to permit persons to whom the Software is  \n",
      "# furnished to do so, subject to the following conditions:  \n",
      "#   \n",
      "# The above copyright notice and this permission notice shall be included in  \n",
      "# all copies or substantial portions of the Software.  \n",
      "#   \n",
      "# THE SOFTWARE IS PROVIDED \"AS IS\", WITHOUT WARRANTY OF ANY KIND, EXPRESS OR  \n",
      "# IMPLIED, INCLUDING BUT NOT LIMITED TO THE WARRANTIES OF MERCHANTABILITY,  \n",
      "# FITNESS FOR A PARTICULAR PURPOSE AND NONINFRINGEMENT. IN NO EVENT SHALL THE  \n",
      "# AUTHORS OR COPYRIGHT HOLDERS BE LIABLE FOR ANY CLAIM, DAMAGES OR OTHER  \n",
      "# LIABILITY, WHETHER IN AN ACTION OF CONTRACT, TORT OR OTHERWISE, ARISING FROM,  \n",
      "# OUT OF OR IN CONNECTION WITH THE SOFTWARE OR THE USE OR OTHER DEALINGS IN  \n",
      "# THE SOFTWARE.  \n",
      "# --------------------------------------------------------------------------------  "
     ],
     "language": "python",
     "metadata": {},
     "outputs": []
    },
    {
     "cell_type": "markdown",
     "metadata": {},
     "source": [
      "\u89c6\u9891\u4e0b\u8f7d\u5730\u5740\n",
      "\n",
      "http://schi.iteye.com/blog/1938511\n",
      "\n",
      "Notebook\u4e0b\u8f7d\u5730\u5740\n",
      "\n",
      "https://github.com/mackst/myPyTutorialNotebook"
     ]
    }
   ],
   "metadata": {}
  }
 ]
}