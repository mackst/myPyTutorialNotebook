{
 "metadata": {
  "name": "08 - \u5b57\u5178"
 },
 "nbformat": 3,
 "nbformat_minor": 0,
 "worksheets": [
  {
   "cells": [
    {
     "cell_type": "code",
     "collapsed": false,
     "input": [
      "a = dict(one=1, two=2, three=3)\n",
      "b = {'one': 1, 'two': 2, 'three': 3}\n",
      "c = dict(zip(['one', 'two', 'three'], [1, 2, 3]))\n",
      "d = dict([('two', 2), ('one', 1), ('three', 3)])\n",
      "e = dict({'three': 3, 'one': 1, 'two': 2})"
     ],
     "language": "python",
     "metadata": {},
     "outputs": []
    },
    {
     "cell_type": "code",
     "collapsed": false,
     "input": [
      "a == b == c == d == e"
     ],
     "language": "python",
     "metadata": {},
     "outputs": []
    },
    {
     "cell_type": "code",
     "collapsed": false,
     "input": [
      "type(a)"
     ],
     "language": "python",
     "metadata": {},
     "outputs": []
    },
    {
     "cell_type": "code",
     "collapsed": false,
     "input": [
      "print 'one' in a\n",
      "print 1 not in a"
     ],
     "language": "python",
     "metadata": {},
     "outputs": []
    },
    {
     "cell_type": "code",
     "collapsed": false,
     "input": [
      "len(a)"
     ],
     "language": "python",
     "metadata": {},
     "outputs": []
    },
    {
     "cell_type": "code",
     "collapsed": false,
     "input": [
      "a['two']"
     ],
     "language": "python",
     "metadata": {},
     "outputs": []
    },
    {
     "cell_type": "code",
     "collapsed": false,
     "input": [
      "a['two'] = 4\n",
      "a"
     ],
     "language": "python",
     "metadata": {},
     "outputs": []
    },
    {
     "cell_type": "code",
     "collapsed": false,
     "input": [
      "del a['two']\n",
      "a"
     ],
     "language": "python",
     "metadata": {},
     "outputs": []
    },
    {
     "cell_type": "code",
     "collapsed": false,
     "input": [
      "for i in a:\n",
      "    print \"key :\", i, \"value :\", a[i]"
     ],
     "language": "python",
     "metadata": {},
     "outputs": []
    },
    {
     "cell_type": "code",
     "collapsed": false,
     "input": [
      "a.clear()\n",
      "a"
     ],
     "language": "python",
     "metadata": {},
     "outputs": []
    },
    {
     "cell_type": "code",
     "collapsed": false,
     "input": [
      "a = b\n",
      "a"
     ],
     "language": "python",
     "metadata": {},
     "outputs": []
    },
    {
     "cell_type": "code",
     "collapsed": false,
     "input": [
      "print id(a)\n",
      "print id(b)\n",
      "id(a)"
     ],
     "language": "python",
     "metadata": {},
     "outputs": []
    },
    {
     "cell_type": "code",
     "collapsed": false,
     "input": [
      "a['three'] = 6\n",
      "print a\n",
      "print b"
     ],
     "language": "python",
     "metadata": {},
     "outputs": []
    },
    {
     "cell_type": "code",
     "collapsed": false,
     "input": [
      "# KEY = \u952e\n",
      "myobjs = ('box1', 'box2', 'box3', 'box4', 'box5', 'box6')\n",
      "aDict = {}.fromkeys(myobjs, 6)\n",
      "aDict"
     ],
     "language": "python",
     "metadata": {},
     "outputs": []
    },
    {
     "cell_type": "code",
     "collapsed": false,
     "input": [
      "#aDict['box0', 0]\n",
      "aDict.get('box0', 0)"
     ],
     "language": "python",
     "metadata": {},
     "outputs": []
    },
    {
     "cell_type": "code",
     "collapsed": false,
     "input": [
      "aDict.items()"
     ],
     "language": "python",
     "metadata": {},
     "outputs": []
    },
    {
     "cell_type": "code",
     "collapsed": false,
     "input": [
      "aDict.iteritems()"
     ],
     "language": "python",
     "metadata": {},
     "outputs": []
    },
    {
     "cell_type": "code",
     "collapsed": false,
     "input": [
      "aDict.pop('box0', 0)"
     ],
     "language": "python",
     "metadata": {},
     "outputs": []
    },
    {
     "cell_type": "code",
     "collapsed": false,
     "input": [
      "print aDict\n",
      "aDict.popitem()\n",
      "aDict"
     ],
     "language": "python",
     "metadata": {},
     "outputs": []
    },
    {
     "cell_type": "code",
     "collapsed": false,
     "input": [
      "print aDict.setdefault('box1')\n",
      "print aDict.setdefault('box0', 0)\n",
      "aDict"
     ],
     "language": "python",
     "metadata": {},
     "outputs": []
    },
    {
     "cell_type": "code",
     "collapsed": false,
     "input": [
      "aDict.update(box1=12, box7=10)\n",
      "aDict"
     ],
     "language": "python",
     "metadata": {},
     "outputs": []
    },
    {
     "cell_type": "code",
     "collapsed": false,
     "input": [
      "print aDict.keys()\n",
      "print aDict.values()"
     ],
     "language": "python",
     "metadata": {},
     "outputs": []
    },
    {
     "cell_type": "code",
     "collapsed": false,
     "input": [
      "def getDet():\n",
      "    return [3, 3, 1]\n",
      "\n",
      "x = 1\n",
      "bDict = {}\n",
      "for i in ['box4', 'box7', 'box6', 'box1', 'box0', 'box3', 'box2']:\n",
      "    objDet = [3 + x, 3 + x, 1 + x]\n",
      "    print objDet\n",
      "    bDict[i] = objDet\n",
      "    x += 1\n",
      "    \n",
      "bDict"
     ],
     "language": "python",
     "metadata": {},
     "outputs": []
    },
    {
     "cell_type": "code",
     "collapsed": false,
     "input": [
      "# --------------------------------------------------------------------------------  \n",
      "# Copyright (c) 2013 Mack Stone. All rights reserved.  \n",
      "#   \n",
      "# Permission is hereby granted, free of charge, to any person obtaining a copy  \n",
      "# of this software and associated documentation files (the \"Software\"), to deal  \n",
      "# in the Software without restriction, including without limitation the rights  \n",
      "# to use, copy, modify, merge, publish, distribute, sublicense, and/or sell  \n",
      "# copies of the Software, and to permit persons to whom the Software is  \n",
      "# furnished to do so, subject to the following conditions:  \n",
      "#   \n",
      "# The above copyright notice and this permission notice shall be included in  \n",
      "# all copies or substantial portions of the Software.  \n",
      "#   \n",
      "# THE SOFTWARE IS PROVIDED \"AS IS\", WITHOUT WARRANTY OF ANY KIND, EXPRESS OR  \n",
      "# IMPLIED, INCLUDING BUT NOT LIMITED TO THE WARRANTIES OF MERCHANTABILITY,  \n",
      "# FITNESS FOR A PARTICULAR PURPOSE AND NONINFRINGEMENT. IN NO EVENT SHALL THE  \n",
      "# AUTHORS OR COPYRIGHT HOLDERS BE LIABLE FOR ANY CLAIM, DAMAGES OR OTHER  \n",
      "# LIABILITY, WHETHER IN AN ACTION OF CONTRACT, TORT OR OTHERWISE, ARISING FROM,  \n",
      "# OUT OF OR IN CONNECTION WITH THE SOFTWARE OR THE USE OR OTHER DEALINGS IN  \n",
      "# THE SOFTWARE.  \n",
      "# --------------------------------------------------------------------------------  "
     ],
     "language": "python",
     "metadata": {},
     "outputs": []
    },
    {
     "cell_type": "markdown",
     "metadata": {},
     "source": [
      "\u89c6\u9891\u4e0b\u8f7d\u5730\u5740\n",
      "\n",
      "http://schi.iteye.com/blog/1938511\n",
      "\n",
      "Notebook\u4e0b\u8f7d\u5730\u5740\n",
      "\n",
      "https://github.com/mackst/myPyTutorialNotebook"
     ]
    }
   ],
   "metadata": {}
  }
 ]
}