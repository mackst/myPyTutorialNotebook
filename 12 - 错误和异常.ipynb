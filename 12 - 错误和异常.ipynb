{
 "metadata": {
  "name": "12 - \u9519\u8bef\u548c\u5f02\u5e38"
 },
 "nbformat": 3,
 "nbformat_minor": 0,
 "worksheets": [
  {
   "cells": [
    {
     "cell_type": "code",
     "collapsed": false,
     "input": [
      "a"
     ],
     "language": "python",
     "metadata": {},
     "outputs": []
    },
    {
     "cell_type": "code",
     "collapsed": false,
     "input": [
      "myfile = open('myfile.txt', 'w')\n",
      "for i in range(10):\n",
      "    myfile.write('./textures/wall_%03i.tga\\n' % (i+1))\n",
      "\n",
      "dosomething()\n",
      "for i in range(10):\n",
      "    myfile.write('./textures/wall_01_%03i.tga\\n' % (i+1))\n",
      "myfile.close()"
     ],
     "language": "python",
     "metadata": {},
     "outputs": []
    },
    {
     "cell_type": "code",
     "collapsed": false,
     "input": [
      "myfile.closed"
     ],
     "language": "python",
     "metadata": {},
     "outputs": []
    },
    {
     "cell_type": "code",
     "collapsed": false,
     "input": [
      "myfile.close()"
     ],
     "language": "python",
     "metadata": {},
     "outputs": []
    },
    {
     "cell_type": "code",
     "collapsed": false,
     "input": [
      "with open('myfile.txt', 'w') as myfile:\n",
      "    for i in range(10):\n",
      "        myfile.write('./textures/wall_%03i.tga\\n' % (i+1))\n",
      "    \n",
      "    dosomething()\n",
      "    for i in range(10):\n",
      "        myfile.write('./textures/wall_01_%03i.tga\\n' % (i+1))"
     ],
     "language": "python",
     "metadata": {},
     "outputs": []
    },
    {
     "cell_type": "code",
     "collapsed": false,
     "input": [
      "myfile.closed"
     ],
     "language": "python",
     "metadata": {},
     "outputs": []
    },
    {
     "cell_type": "raw",
     "metadata": {},
     "source": [
      "try:\n",
      "    pass\n",
      "except:\n",
      "    pass"
     ]
    },
    {
     "cell_type": "code",
     "collapsed": false,
     "input": [
      "myfile = open('myfile.txt', 'w')\n",
      "try:\n",
      "    for i in range(10):\n",
      "        myfile.write('./textures/wall_%03i.tga\\n' % (i+1))\n",
      "    \n",
      "    dosomething()\n",
      "    for i in range(10):\n",
      "        myfile.write('./textures/wall_01_%03i.tga\\n' % (i+1))\n",
      "except NameError:\n",
      "    myfile.close()"
     ],
     "language": "python",
     "metadata": {},
     "outputs": []
    },
    {
     "cell_type": "code",
     "collapsed": false,
     "input": [
      "myfile = open('myfile.txt', 'w')\n",
      "try:\n",
      "    for i in range(10):\n",
      "        myfile.write('./textures/wall_%03i.tga\\n' % (i+1))\n",
      "    \n",
      "    dosomething()\n",
      "    for i in range(10):\n",
      "        myfile.write('./textures/wall_01_%03i.tga\\n' % (i+1))\n",
      "except NameError, e:\n",
      "    print(e)\n",
      "    myfile.close()"
     ],
     "language": "python",
     "metadata": {},
     "outputs": []
    },
    {
     "cell_type": "code",
     "collapsed": false,
     "input": [
      "try:\n",
      "    myfile = open('myfile.txt', 'r+')\n",
      "    for i in range(10):\n",
      "        myfile.write('./textures/wall_%03i.tga\\n' % (i+1))\n",
      "    \n",
      "    dosomething()\n",
      "    for i in range(10):\n",
      "        myfile.write('./textures/wall_01_%03i.tga\\n' % (i+1))\n",
      "except NameError, e:\n",
      "    print(e)\n",
      "    myfile.close()\n",
      "except IOError, e:\n",
      "    print(e)\n",
      "    print('file not exist')\n",
      "except EOFError, e:\n",
      "    print(e)\n",
      "    print('eof error')"
     ],
     "language": "python",
     "metadata": {},
     "outputs": []
    },
    {
     "cell_type": "code",
     "collapsed": false,
     "input": [
      "try:\n",
      "    myfile = open('myfile.txt', 'w')\n",
      "    for i in range(10):\n",
      "        myfile.write('./textures/wall_%03i.tga\\n' % (i+1))\n",
      "    \n",
      "    dosomething()\n",
      "    for i in range(10):\n",
      "        myfile.write('./textures/wall_01_%03i.tga\\n' % (i+1))\n",
      "except:\n",
      "    myfile.close()"
     ],
     "language": "python",
     "metadata": {},
     "outputs": []
    },
    {
     "cell_type": "code",
     "collapsed": false,
     "input": [
      "raise Exception('this is an error')"
     ],
     "language": "python",
     "metadata": {},
     "outputs": []
    },
    {
     "cell_type": "code",
     "collapsed": false,
     "input": [
      "class openFialed(Exception):\n",
      "    pass"
     ],
     "language": "python",
     "metadata": {},
     "outputs": []
    },
    {
     "cell_type": "code",
     "collapsed": false,
     "input": [
      "raise openFialed(\"file can't open\")"
     ],
     "language": "python",
     "metadata": {},
     "outputs": []
    },
    {
     "cell_type": "code",
     "collapsed": false,
     "input": [
      "try:\n",
      "    myfile = open('myfile.txt', 'r+')\n",
      "    for i in range(10):\n",
      "        myfile.write('./textures/wall_%03i.tga\\n' % (i+1))\n",
      "    \n",
      "    #dosomething()\n",
      "    for i in range(10):\n",
      "        myfile.write('./textures/wall_01_%03i.tga\\n' % (i+1))\n",
      "except NameError, e:\n",
      "    print(e)\n",
      "    myfile.close()\n",
      "except IOError, e:\n",
      "    print(e)\n",
      "    print('file not exist')\n",
      "except EOFError, e:\n",
      "    print(e)\n",
      "    print('eof error')\n",
      "else:\n",
      "    print('in else prosse')"
     ],
     "language": "python",
     "metadata": {},
     "outputs": []
    },
    {
     "cell_type": "code",
     "collapsed": false,
     "input": [
      "try:\n",
      "    myfile = open('myfile.txt', 'r+')\n",
      "    for i in range(10):\n",
      "        myfile.write('./textures/wall_%03i.tga\\n' % (i+1))\n",
      "    \n",
      "    #dosomething()\n",
      "    for i in range(10):\n",
      "        myfile.write('./textures/wall_01_%03i.tga\\n' % (i+1))\n",
      "except NameError, e:\n",
      "    print(e)\n",
      "except IOError, e:\n",
      "    print(e)\n",
      "    print('file not exist')\n",
      "except EOFError, e:\n",
      "    print(e)\n",
      "    print('eof error')\n",
      "else:\n",
      "    print('in else prosse')\n",
      "finally:\n",
      "    print('in finally prosse')\n",
      "    myfile.close()"
     ],
     "language": "python",
     "metadata": {},
     "outputs": []
    },
    {
     "cell_type": "code",
     "collapsed": false,
     "input": [
      "# --------------------------------------------------------------------------------  \n",
      "# Copyright (c) 2013 - 2014 Mack Stone. All rights reserved.  \n",
      "#   \n",
      "# Permission is hereby granted, free of charge, to any person obtaining a copy  \n",
      "# of this software and associated documentation files (the \"Software\"), to deal  \n",
      "# in the Software without restriction, including without limitation the rights  \n",
      "# to use, copy, modify, merge, publish, distribute, sublicense, and/or sell  \n",
      "# copies of the Software, and to permit persons to whom the Software is  \n",
      "# furnished to do so, subject to the following conditions:  \n",
      "#   \n",
      "# The above copyright notice and this permission notice shall be included in  \n",
      "# all copies or substantial portions of the Software.  \n",
      "#   \n",
      "# THE SOFTWARE IS PROVIDED \"AS IS\", WITHOUT WARRANTY OF ANY KIND, EXPRESS OR  \n",
      "# IMPLIED, INCLUDING BUT NOT LIMITED TO THE WARRANTIES OF MERCHANTABILITY,  \n",
      "# FITNESS FOR A PARTICULAR PURPOSE AND NONINFRINGEMENT. IN NO EVENT SHALL THE  \n",
      "# AUTHORS OR COPYRIGHT HOLDERS BE LIABLE FOR ANY CLAIM, DAMAGES OR OTHER  \n",
      "# LIABILITY, WHETHER IN AN ACTION OF CONTRACT, TORT OR OTHERWISE, ARISING FROM,  \n",
      "# OUT OF OR IN CONNECTION WITH THE SOFTWARE OR THE USE OR OTHER DEALINGS IN  \n",
      "# THE SOFTWARE.  \n",
      "# --------------------------------------------------------------------------------  "
     ],
     "language": "python",
     "metadata": {},
     "outputs": []
    },
    {
     "cell_type": "raw",
     "metadata": {},
     "source": [
      "\u89c6\u9891\u4e0b\u8f7d\u5730\u5740\n",
      "\n",
      "http://schi.iteye.com/blog/1938511\n",
      "    \n",
      "Notebook\u4e0b\u8f7d\u5730\u5740\n",
      "\n",
      "https://github.com/mackst/myPyTutorialNotebook"
     ]
    }
   ],
   "metadata": {}
  }
 ]
}